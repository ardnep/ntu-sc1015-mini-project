{
 "cells": [
  {
   "cell_type": "markdown",
   "id": "9d47ffe2",
   "metadata": {},
   "source": [
    "# SC1015 DSAI Mini Project\n",
    "## Part 4: Clustering\n",
    "---\n",
    "This is the section where we cluster our `conv_vars_df`. We use the new dataset with reduced dimensions to do this. \n",
    "\n",
    "We have chosen the **Hierarchical Density-Based Spatial Clustering of Applications with Noise (HDBSCAN)** clustering algorithm for the purpose of our clustering. \n",
    "\n",
    "The reasons we have chosen this particular clustering algorithm are:\n",
    "1. This is a density based clustering algorithm which means it does not need the specification of the number of clusters. Essentially, this algorithm will not *force* any point into a cluster. Instead, points which do not really belong to any cluster are labeled \"noise\". This is clearly useful for us since we are doing anomaly detection (outlier/noise detection).\n",
    "2. Because this is density based, the shape of our data does not matter which is useful since we are working with high dimensional data and it is not possible for us to visualize and understand what kind of shapes our data might have. \n",
    "3. With a non-hierarchical DBSCAN, we would have to hyperparameter tune for `epsilon` which is the maximum distance between two samples for one to be considered as in the neighborhood of the other. This is a difficult parameter to tune. We would also have to tune `min_samples` (the number of samples in a neighborhood for a point to be considered as a core point) along with this. HDBSCAN removes the need for us to tune `epsilon`. Instead we only work with `min_samples` and `min_cluster_size` (the minimum size a final cluster can be). `min_cluster_size` is relatively easy to tune. So, essentially we would only have to tune `min_samples`\n",
    "4. Because HDBSCAN is a hierarchical clustering algorithm even if we have a high dimensional data, we can use dendrograms to somewhat visualize the clusters and make inferences.\n",
    "    -   Note: this is one of the reasons `min_cluster_size` is easy to tune.\n",
    "\n",
    "More details on HDBSCAN and its parameters are presented in the rest of this notebook.\n",
    "\n",
    "**Question:** Does Being Unconventional Determine Success?\n",
    "\n",
    "**Dataset:** [Stack Overflow Developer Survey 2020 on Kaggle](https://www.kaggle.com/aitzaz/stack-overflow-developer-survey-2020)\n",
    "\n",
    "## Table of Contents:\n",
    "1. [Clustering with Random Parameters](#1\\.-Clustering-with-Random-Parameters)\n",
    "2. [Hyperparameter Tuning Using `GridSearchCV`](#2\\.-Hyperparameter-Tuning-Using-GridSearchCV)\n",
    "3. [Plotting DBCV vs. `min_samples`](#3\\.-Plotting-DBCV-vs\\.-min_samples)\n",
    "4. [Clustering with New Parameters](#4\\.-Clustering-with-New-Parameters)\n",
    "5. [Increasing `min_cluster_size` to `30`](#5\\.-Increasing-min_cluster_size-to-30)\n",
    "6. [Creating DataFrame With Clustered Points](#6\\.-Creating-DataFrame-With-Clustered-Points)\n",
    "7. [Converting DataFrame to Pickle File](#7\\.-Converting-DataFrame-to-Pickle-File)"
   ]
  },
  {
   "cell_type": "code",
   "execution_count": 3,
   "id": "0bac3ef3",
   "metadata": {},
   "outputs": [],
   "source": [
    "import pandas as pd\n",
    "import numpy as np\n",
    "\n",
    "import hdbscan\n",
    "\n",
    "import logging\n",
    "from sklearn.metrics import make_scorer\n",
    "from sklearn.model_selection import GridSearchCV\n",
    "\n",
    "import matplotlib.pyplot as plt\n",
    "import seaborn as sb\n",
    "\n",
    "sb.set()"
   ]
  },
  {
   "cell_type": "code",
   "execution_count": 4,
   "id": "f395545c",
   "metadata": {},
   "outputs": [
    {
     "data": {
      "text/html": [
       "<div>\n",
       "<style scoped>\n",
       "    .dataframe tbody tr th:only-of-type {\n",
       "        vertical-align: middle;\n",
       "    }\n",
       "\n",
       "    .dataframe tbody tr th {\n",
       "        vertical-align: top;\n",
       "    }\n",
       "\n",
       "    .dataframe thead tr th {\n",
       "        text-align: left;\n",
       "    }\n",
       "</style>\n",
       "<table border=\"1\" class=\"dataframe\">\n",
       "  <thead>\n",
       "    <tr>\n",
       "      <th></th>\n",
       "      <th colspan=\"2\" halign=\"left\">OpSys</th>\n",
       "      <th colspan=\"7\" halign=\"left\">PlatformWorkedWith</th>\n",
       "      <th>DatabaseWorkedWith</th>\n",
       "      <th>...</th>\n",
       "      <th colspan=\"3\" halign=\"left\">LanguageWorkedWith</th>\n",
       "      <th colspan=\"7\" halign=\"left\">WebframeWorkedWith</th>\n",
       "    </tr>\n",
       "    <tr>\n",
       "      <th></th>\n",
       "      <th>0</th>\n",
       "      <th>1</th>\n",
       "      <th>0</th>\n",
       "      <th>1</th>\n",
       "      <th>2</th>\n",
       "      <th>3</th>\n",
       "      <th>4</th>\n",
       "      <th>5</th>\n",
       "      <th>6</th>\n",
       "      <th>0</th>\n",
       "      <th>...</th>\n",
       "      <th>8</th>\n",
       "      <th>9</th>\n",
       "      <th>10</th>\n",
       "      <th>0</th>\n",
       "      <th>1</th>\n",
       "      <th>2</th>\n",
       "      <th>3</th>\n",
       "      <th>4</th>\n",
       "      <th>5</th>\n",
       "      <th>6</th>\n",
       "    </tr>\n",
       "  </thead>\n",
       "  <tbody>\n",
       "    <tr>\n",
       "      <th>0</th>\n",
       "      <td>0.488916</td>\n",
       "      <td>0.968879</td>\n",
       "      <td>-0.261067</td>\n",
       "      <td>-0.289234</td>\n",
       "      <td>-0.105833</td>\n",
       "      <td>-0.086375</td>\n",
       "      <td>-0.135445</td>\n",
       "      <td>0.160893</td>\n",
       "      <td>-0.120863</td>\n",
       "      <td>0.182597</td>\n",
       "      <td>...</td>\n",
       "      <td>0.117175</td>\n",
       "      <td>-0.048144</td>\n",
       "      <td>-0.119423</td>\n",
       "      <td>0.101257</td>\n",
       "      <td>-0.480765</td>\n",
       "      <td>0.307525</td>\n",
       "      <td>0.110485</td>\n",
       "      <td>0.106287</td>\n",
       "      <td>-0.071057</td>\n",
       "      <td>0.104100</td>\n",
       "    </tr>\n",
       "    <tr>\n",
       "      <th>1</th>\n",
       "      <td>-0.664356</td>\n",
       "      <td>-0.075039</td>\n",
       "      <td>-0.138209</td>\n",
       "      <td>0.419785</td>\n",
       "      <td>0.302513</td>\n",
       "      <td>-0.307976</td>\n",
       "      <td>-0.140970</td>\n",
       "      <td>0.071127</td>\n",
       "      <td>0.086634</td>\n",
       "      <td>-0.558953</td>\n",
       "      <td>...</td>\n",
       "      <td>-0.065854</td>\n",
       "      <td>-0.063722</td>\n",
       "      <td>-0.102583</td>\n",
       "      <td>0.061347</td>\n",
       "      <td>-0.275087</td>\n",
       "      <td>0.392402</td>\n",
       "      <td>0.117162</td>\n",
       "      <td>0.147623</td>\n",
       "      <td>-0.012150</td>\n",
       "      <td>-0.025452</td>\n",
       "    </tr>\n",
       "    <tr>\n",
       "      <th>2</th>\n",
       "      <td>-0.664356</td>\n",
       "      <td>-0.075039</td>\n",
       "      <td>-0.020325</td>\n",
       "      <td>0.122572</td>\n",
       "      <td>-0.659488</td>\n",
       "      <td>-0.073063</td>\n",
       "      <td>0.118488</td>\n",
       "      <td>0.110507</td>\n",
       "      <td>-0.420980</td>\n",
       "      <td>0.209126</td>\n",
       "      <td>...</td>\n",
       "      <td>-0.099066</td>\n",
       "      <td>0.002143</td>\n",
       "      <td>-0.070101</td>\n",
       "      <td>0.224844</td>\n",
       "      <td>0.067606</td>\n",
       "      <td>-0.159046</td>\n",
       "      <td>0.518323</td>\n",
       "      <td>0.337956</td>\n",
       "      <td>-0.036581</td>\n",
       "      <td>0.151075</td>\n",
       "    </tr>\n",
       "    <tr>\n",
       "      <th>3</th>\n",
       "      <td>-0.664356</td>\n",
       "      <td>-0.075039</td>\n",
       "      <td>-0.360463</td>\n",
       "      <td>-0.005268</td>\n",
       "      <td>-0.033489</td>\n",
       "      <td>0.174872</td>\n",
       "      <td>0.138054</td>\n",
       "      <td>0.185212</td>\n",
       "      <td>-0.183355</td>\n",
       "      <td>-0.413959</td>\n",
       "      <td>...</td>\n",
       "      <td>-0.072042</td>\n",
       "      <td>0.002242</td>\n",
       "      <td>0.049784</td>\n",
       "      <td>0.022019</td>\n",
       "      <td>0.014207</td>\n",
       "      <td>0.035772</td>\n",
       "      <td>0.076387</td>\n",
       "      <td>-0.191776</td>\n",
       "      <td>-0.310875</td>\n",
       "      <td>-0.146662</td>\n",
       "    </tr>\n",
       "    <tr>\n",
       "      <th>4</th>\n",
       "      <td>-0.664356</td>\n",
       "      <td>-0.075039</td>\n",
       "      <td>-0.551867</td>\n",
       "      <td>-0.011362</td>\n",
       "      <td>0.003455</td>\n",
       "      <td>-0.022148</td>\n",
       "      <td>0.038836</td>\n",
       "      <td>0.037289</td>\n",
       "      <td>0.000606</td>\n",
       "      <td>-0.347170</td>\n",
       "      <td>...</td>\n",
       "      <td>-0.069495</td>\n",
       "      <td>-0.151268</td>\n",
       "      <td>0.095711</td>\n",
       "      <td>-0.378472</td>\n",
       "      <td>0.176205</td>\n",
       "      <td>-0.224730</td>\n",
       "      <td>0.383069</td>\n",
       "      <td>0.022765</td>\n",
       "      <td>-0.044310</td>\n",
       "      <td>0.091775</td>\n",
       "    </tr>\n",
       "    <tr>\n",
       "      <th>...</th>\n",
       "      <td>...</td>\n",
       "      <td>...</td>\n",
       "      <td>...</td>\n",
       "      <td>...</td>\n",
       "      <td>...</td>\n",
       "      <td>...</td>\n",
       "      <td>...</td>\n",
       "      <td>...</td>\n",
       "      <td>...</td>\n",
       "      <td>...</td>\n",
       "      <td>...</td>\n",
       "      <td>...</td>\n",
       "      <td>...</td>\n",
       "      <td>...</td>\n",
       "      <td>...</td>\n",
       "      <td>...</td>\n",
       "      <td>...</td>\n",
       "      <td>...</td>\n",
       "      <td>...</td>\n",
       "      <td>...</td>\n",
       "      <td>...</td>\n",
       "    </tr>\n",
       "    <tr>\n",
       "      <th>19357</th>\n",
       "      <td>-0.664356</td>\n",
       "      <td>-0.075039</td>\n",
       "      <td>-0.422903</td>\n",
       "      <td>0.233372</td>\n",
       "      <td>0.501220</td>\n",
       "      <td>0.194008</td>\n",
       "      <td>0.007494</td>\n",
       "      <td>-0.059742</td>\n",
       "      <td>-0.174096</td>\n",
       "      <td>0.010040</td>\n",
       "      <td>...</td>\n",
       "      <td>0.046253</td>\n",
       "      <td>0.322042</td>\n",
       "      <td>0.608192</td>\n",
       "      <td>0.245165</td>\n",
       "      <td>0.073108</td>\n",
       "      <td>-0.568642</td>\n",
       "      <td>-0.579787</td>\n",
       "      <td>0.843856</td>\n",
       "      <td>-0.241702</td>\n",
       "      <td>0.246295</td>\n",
       "    </tr>\n",
       "    <tr>\n",
       "      <th>19358</th>\n",
       "      <td>0.713143</td>\n",
       "      <td>-0.637515</td>\n",
       "      <td>0.486336</td>\n",
       "      <td>-0.579728</td>\n",
       "      <td>-0.063059</td>\n",
       "      <td>-0.069444</td>\n",
       "      <td>-0.305045</td>\n",
       "      <td>-0.030197</td>\n",
       "      <td>0.145388</td>\n",
       "      <td>1.178607</td>\n",
       "      <td>...</td>\n",
       "      <td>0.065744</td>\n",
       "      <td>-0.181526</td>\n",
       "      <td>-0.003053</td>\n",
       "      <td>0.103926</td>\n",
       "      <td>-0.331398</td>\n",
       "      <td>-0.107945</td>\n",
       "      <td>-0.184561</td>\n",
       "      <td>-0.160079</td>\n",
       "      <td>0.012911</td>\n",
       "      <td>0.099058</td>\n",
       "    </tr>\n",
       "    <tr>\n",
       "      <th>19359</th>\n",
       "      <td>-0.664356</td>\n",
       "      <td>-0.075039</td>\n",
       "      <td>-0.551867</td>\n",
       "      <td>-0.011362</td>\n",
       "      <td>0.003455</td>\n",
       "      <td>-0.022148</td>\n",
       "      <td>0.038836</td>\n",
       "      <td>0.037289</td>\n",
       "      <td>0.000606</td>\n",
       "      <td>-0.558953</td>\n",
       "      <td>...</td>\n",
       "      <td>0.022599</td>\n",
       "      <td>0.052966</td>\n",
       "      <td>-0.094406</td>\n",
       "      <td>-0.334295</td>\n",
       "      <td>-0.249411</td>\n",
       "      <td>0.090823</td>\n",
       "      <td>-0.137421</td>\n",
       "      <td>-0.089177</td>\n",
       "      <td>0.032127</td>\n",
       "      <td>0.054622</td>\n",
       "    </tr>\n",
       "    <tr>\n",
       "      <th>19360</th>\n",
       "      <td>0.713143</td>\n",
       "      <td>-0.637515</td>\n",
       "      <td>-0.261067</td>\n",
       "      <td>-0.289234</td>\n",
       "      <td>-0.105833</td>\n",
       "      <td>-0.086375</td>\n",
       "      <td>-0.135445</td>\n",
       "      <td>0.160893</td>\n",
       "      <td>-0.120863</td>\n",
       "      <td>0.053521</td>\n",
       "      <td>...</td>\n",
       "      <td>-0.100159</td>\n",
       "      <td>-0.122908</td>\n",
       "      <td>0.148564</td>\n",
       "      <td>0.397010</td>\n",
       "      <td>0.119778</td>\n",
       "      <td>0.016496</td>\n",
       "      <td>0.178240</td>\n",
       "      <td>0.508680</td>\n",
       "      <td>0.685097</td>\n",
       "      <td>-0.621225</td>\n",
       "    </tr>\n",
       "    <tr>\n",
       "      <th>19361</th>\n",
       "      <td>-0.664356</td>\n",
       "      <td>-0.075039</td>\n",
       "      <td>-0.478035</td>\n",
       "      <td>0.150148</td>\n",
       "      <td>-0.043226</td>\n",
       "      <td>-0.033937</td>\n",
       "      <td>0.364704</td>\n",
       "      <td>-0.147806</td>\n",
       "      <td>0.149542</td>\n",
       "      <td>-0.265805</td>\n",
       "      <td>...</td>\n",
       "      <td>-0.043003</td>\n",
       "      <td>0.111281</td>\n",
       "      <td>0.053115</td>\n",
       "      <td>-0.092883</td>\n",
       "      <td>-0.148014</td>\n",
       "      <td>0.196761</td>\n",
       "      <td>-0.066560</td>\n",
       "      <td>-0.193068</td>\n",
       "      <td>0.065242</td>\n",
       "      <td>-0.083301</td>\n",
       "    </tr>\n",
       "  </tbody>\n",
       "</table>\n",
       "<p>19362 rows × 42 columns</p>\n",
       "</div>"
      ],
      "text/plain": [
       "          OpSys           PlatformWorkedWith                                \\\n",
       "             0         1                  0         1         2         3    \n",
       "0      0.488916  0.968879          -0.261067 -0.289234 -0.105833 -0.086375   \n",
       "1     -0.664356 -0.075039          -0.138209  0.419785  0.302513 -0.307976   \n",
       "2     -0.664356 -0.075039          -0.020325  0.122572 -0.659488 -0.073063   \n",
       "3     -0.664356 -0.075039          -0.360463 -0.005268 -0.033489  0.174872   \n",
       "4     -0.664356 -0.075039          -0.551867 -0.011362  0.003455 -0.022148   \n",
       "...         ...       ...                ...       ...       ...       ...   \n",
       "19357 -0.664356 -0.075039          -0.422903  0.233372  0.501220  0.194008   \n",
       "19358  0.713143 -0.637515           0.486336 -0.579728 -0.063059 -0.069444   \n",
       "19359 -0.664356 -0.075039          -0.551867 -0.011362  0.003455 -0.022148   \n",
       "19360  0.713143 -0.637515          -0.261067 -0.289234 -0.105833 -0.086375   \n",
       "19361 -0.664356 -0.075039          -0.478035  0.150148 -0.043226 -0.033937   \n",
       "\n",
       "                                    DatabaseWorkedWith  ...  \\\n",
       "             4         5         6                  0   ...   \n",
       "0     -0.135445  0.160893 -0.120863           0.182597  ...   \n",
       "1     -0.140970  0.071127  0.086634          -0.558953  ...   \n",
       "2      0.118488  0.110507 -0.420980           0.209126  ...   \n",
       "3      0.138054  0.185212 -0.183355          -0.413959  ...   \n",
       "4      0.038836  0.037289  0.000606          -0.347170  ...   \n",
       "...         ...       ...       ...                ...  ...   \n",
       "19357  0.007494 -0.059742 -0.174096           0.010040  ...   \n",
       "19358 -0.305045 -0.030197  0.145388           1.178607  ...   \n",
       "19359  0.038836  0.037289  0.000606          -0.558953  ...   \n",
       "19360 -0.135445  0.160893 -0.120863           0.053521  ...   \n",
       "19361  0.364704 -0.147806  0.149542          -0.265805  ...   \n",
       "\n",
       "      LanguageWorkedWith                     WebframeWorkedWith            \\\n",
       "                      8         9         10                 0         1    \n",
       "0               0.117175 -0.048144 -0.119423           0.101257 -0.480765   \n",
       "1              -0.065854 -0.063722 -0.102583           0.061347 -0.275087   \n",
       "2              -0.099066  0.002143 -0.070101           0.224844  0.067606   \n",
       "3              -0.072042  0.002242  0.049784           0.022019  0.014207   \n",
       "4              -0.069495 -0.151268  0.095711          -0.378472  0.176205   \n",
       "...                  ...       ...       ...                ...       ...   \n",
       "19357           0.046253  0.322042  0.608192           0.245165  0.073108   \n",
       "19358           0.065744 -0.181526 -0.003053           0.103926 -0.331398   \n",
       "19359           0.022599  0.052966 -0.094406          -0.334295 -0.249411   \n",
       "19360          -0.100159 -0.122908  0.148564           0.397010  0.119778   \n",
       "19361          -0.043003  0.111281  0.053115          -0.092883 -0.148014   \n",
       "\n",
       "                                                         \n",
       "             2         3         4         5         6   \n",
       "0      0.307525  0.110485  0.106287 -0.071057  0.104100  \n",
       "1      0.392402  0.117162  0.147623 -0.012150 -0.025452  \n",
       "2     -0.159046  0.518323  0.337956 -0.036581  0.151075  \n",
       "3      0.035772  0.076387 -0.191776 -0.310875 -0.146662  \n",
       "4     -0.224730  0.383069  0.022765 -0.044310  0.091775  \n",
       "...         ...       ...       ...       ...       ...  \n",
       "19357 -0.568642 -0.579787  0.843856 -0.241702  0.246295  \n",
       "19358 -0.107945 -0.184561 -0.160079  0.012911  0.099058  \n",
       "19359  0.090823 -0.137421 -0.089177  0.032127  0.054622  \n",
       "19360  0.016496  0.178240  0.508680  0.685097 -0.621225  \n",
       "19361  0.196761 -0.066560 -0.193068  0.065242 -0.083301  \n",
       "\n",
       "[19362 rows x 42 columns]"
      ]
     },
     "execution_count": 4,
     "metadata": {},
     "output_type": "execute_result"
    }
   ],
   "source": [
    "conv_vars_df = pd.read_pickle('conv_vars_less_dims.pickle')\n",
    "conv_vars_df"
   ]
  },
  {
   "cell_type": "code",
   "execution_count": null,
   "id": "51d79f8f",
   "metadata": {},
   "outputs": [],
   "source": []
  },
  {
   "cell_type": "code",
   "execution_count": null,
   "id": "5cda7e22",
   "metadata": {},
   "outputs": [],
   "source": []
  },
  {
   "cell_type": "markdown",
   "id": "5a9d86e7",
   "metadata": {},
   "source": [
    "### 1. Clustering with Random Parameters\n",
    "\n",
    "We will now try to use HDBSCAN to cluster our dataset. For this section, we will be using random parameters. We have chosen: \\\n",
    "`min_samples = 15` \\\n",
    "`min_cluster_size = 55`\n",
    "\n",
    "Here: \\\n",
    "`min_samples` refers to the number of samples in a neighborhood for a point to be considered as a core point of a cluster \\\n",
    "`min_cluster_size` refers to the minimum size a final cluster can be\n",
    "\n",
    "The algorithm generates a dendrogram which is a diagram representing the hierarchy of clusters. The `min_cluster_size` determines which branches to consider in the same cluster while `min_samples` is more influential on deciding how the dendrogram itself forms. The dendrogram here is called `condensed_tree_plot_` because it is a condensed version of the dendrogram which helps in visualizing large volume of data more easily. \n",
    "\n",
    "Although since clustering is an unsupervised algorithm, it cannot be easily checked for \"goodness of fit\", in the case of density-based clustering, there exists a metric called the Density-Based Clustering Validation (DBCV). It ranges from -1 to 1 (higher value meaning a better clustering solution). The `relative_validity_` attribute outputs this DBCV score of our model."
   ]
  },
  {
   "cell_type": "code",
   "execution_count": 5,
   "id": "0d2eb38d",
   "metadata": {},
   "outputs": [],
   "source": [
    "hdb = hdbscan.HDBSCAN(min_samples=15, min_cluster_size=55, gen_min_span_tree=True)"
   ]
  },
  {
   "cell_type": "code",
   "execution_count": 6,
   "id": "e58cfedc",
   "metadata": {},
   "outputs": [
    {
     "data": {
      "text/plain": [
       "HDBSCAN(gen_min_span_tree=True, min_cluster_size=55, min_samples=15)"
      ]
     },
     "execution_count": 6,
     "metadata": {},
     "output_type": "execute_result"
    }
   ],
   "source": [
    "hdb.fit(conv_vars_df)"
   ]
  },
  {
   "cell_type": "code",
   "execution_count": 7,
   "id": "e8b12ade",
   "metadata": {},
   "outputs": [
    {
     "data": {
      "text/plain": [
       "<AxesSubplot:ylabel='$\\\\lambda$ value'>"
      ]
     },
     "execution_count": 7,
     "metadata": {},
     "output_type": "execute_result"
    },
    {
     "data": {
      "image/png": "[encoded data removed]",
      "text/plain": [
       "<Figure size 1152x576 with 2 Axes>"
      ]
     },
     "metadata": {},
     "output_type": "display_data"
    }
   ],
   "source": [
    "# this is the dendogram diagram with the red circles representing the clusters selected by the algorithm\n",
    "plt.figure(figsize=(16,8))\n",
    "hdb.condensed_tree_.plot(select_clusters=True)"
   ]
  },
  {
   "cell_type": "code",
   "execution_count": 8,
   "id": "a219f022",
   "metadata": {},
   "outputs": [
    {
     "data": {
      "text/plain": [
       "4.808856507041543e-05"
      ]
     },
     "execution_count": 8,
     "metadata": {},
     "output_type": "execute_result"
    }
   ],
   "source": [
    "hdb.relative_validity_"
   ]
  },
  {
   "cell_type": "markdown",
   "id": "7c48a2f2",
   "metadata": {},
   "source": [
    "#### We noticed that the DBCV score is quite low for these parameters. We changed this and tried once again\n",
    "\n",
    "Now,\\\n",
    "`min_samples = 15`\\\n",
    "`min_cluster_size = 10`"
   ]
  },
  {
   "cell_type": "code",
   "execution_count": 9,
   "id": "290c3124",
   "metadata": {},
   "outputs": [],
   "source": [
    "hdb = hdbscan.HDBSCAN(min_samples=15, min_cluster_size=10, gen_min_span_tree=True)"
   ]
  },
  {
   "cell_type": "code",
   "execution_count": 10,
   "id": "332109e5",
   "metadata": {},
   "outputs": [
    {
     "data": {
      "text/plain": [
       "HDBSCAN(gen_min_span_tree=True, min_cluster_size=10, min_samples=15)"
      ]
     },
     "execution_count": 10,
     "metadata": {},
     "output_type": "execute_result"
    }
   ],
   "source": [
    "hdb.fit(conv_vars_df)"
   ]
  },
  {
   "cell_type": "code",
   "execution_count": 11,
   "id": "f4468011",
   "metadata": {},
   "outputs": [
    {
     "name": "stderr",
     "output_type": "stream",
     "text": [
      "/Users/ardnep/miniconda3/lib/python3.8/site-packages/hdbscan/plots.py:383: UserWarning: Infinite lambda values encountered in chosen clusters. This might be due to duplicates in the data.\n",
      "  warn('Infinite lambda values encountered in chosen clusters.'\n"
     ]
    },
    {
     "data": {
      "text/plain": [
       "<AxesSubplot:ylabel='$\\\\lambda$ value'>"
      ]
     },
     "execution_count": 11,
     "metadata": {},
     "output_type": "execute_result"
    },
    {
     "data": {
      "image/png": "[encoded data removed]",
      "text/plain": [
       "<Figure size 1152x576 with 2 Axes>"
      ]
     },
     "metadata": {},
     "output_type": "display_data"
    }
   ],
   "source": [
    "plt.figure(figsize=(16,8))\n",
    "hdb.condensed_tree_.plot(select_clusters=True)"
   ]
  },
  {
   "cell_type": "code",
   "execution_count": 12,
   "id": "6d41ce02",
   "metadata": {},
   "outputs": [
    {
     "data": {
      "text/plain": [
       "0.0016088310239301155"
      ]
     },
     "execution_count": 12,
     "metadata": {},
     "output_type": "execute_result"
    }
   ],
   "source": [
    "hdb.relative_validity_"
   ]
  },
  {
   "cell_type": "code",
   "execution_count": null,
   "id": "9ab816f8",
   "metadata": {},
   "outputs": [],
   "source": []
  },
  {
   "cell_type": "code",
   "execution_count": null,
   "id": "b07cf61e",
   "metadata": {},
   "outputs": [],
   "source": []
  },
  {
   "cell_type": "markdown",
   "id": "e3d5f0b8",
   "metadata": {},
   "source": [
    "### 2. Hyperparameter Tuning Using `GridSearchCV`\n",
    "\n",
    "Now, we try to properly find parameters that optimize our clustering solution using the DBCV score. We will try to change the parameters `min_samples` and `min_cluster_size` and see which combinations of these give us the best DBCV score.\n",
    "\n",
    "To achieve this, we use the `GridSearchCV` algorithm and only check with a subset of our original dataset because of computational limitations. "
   ]
  },
  {
   "cell_type": "code",
   "execution_count": 11,
   "id": "1db2ff65",
   "metadata": {
    "scrolled": true
   },
   "outputs": [
    {
     "name": "stdout",
     "output_type": "stream",
     "text": [
      "{'min_cluster_size': 5, 'min_samples': 5}\n",
      "0.03862644977016001\n"
     ]
    }
   ],
   "source": [
    "# random sample a subset of dataset (10,000 rows)\n",
    "subset = conv_vars_df.sample(n=10000)\n",
    "\n",
    "hdb = hdbscan.HDBSCAN(gen_min_span_tree=True).fit(subset)\n",
    "\n",
    "logging.captureWarnings(True)\n",
    "\n",
    "# set the combinations of parameters to try\n",
    "param_dist = {'min_samples': [5, 10, 15, 20, 25, 30, 35, 40, 45, 50],\n",
    "              'min_cluster_size':[5, 10, 15, 20, 25, 30, 35, 40, 45, 50]}\n",
    "\n",
    "# create the DBCV metric\n",
    "validity_scorer = make_scorer(hdbscan.validity.validity_index, greater_is_better=True)\n",
    "\n",
    "# run the GridSearchCV Algorithm\n",
    "grid_search = GridSearchCV(hdb, param_grid=param_dist, n_jobs=-1, scoring=validity_scorer)\n",
    "grid_search.fit(subset)\n",
    "\n",
    "# print the best parameter\n",
    "print(grid_search.best_params_)\n",
    "\n",
    "# print the DBCV score with the best parameters\n",
    "print(grid_search.best_estimator_.relative_validity_)"
   ]
  },
  {
   "cell_type": "code",
   "execution_count": null,
   "id": "47f2c5c5",
   "metadata": {},
   "outputs": [],
   "source": []
  },
  {
   "cell_type": "code",
   "execution_count": null,
   "id": "f0e6ba35",
   "metadata": {},
   "outputs": [],
   "source": []
  },
  {
   "cell_type": "markdown",
   "id": "a0bd2712",
   "metadata": {},
   "source": [
    "### 3. Plotting DBCV vs. `min_samples`\n",
    "\n",
    "We noticed that DBCV score is still not that high even while using `GridSearchCV` to check accross a range of parameters. This is likely due to using only a subset of the original dataset. So, we tried to instead manually change `min_samples` only while keeping `min_cluster_size = 10` (arbitrarily chosen) to see what kinds of results we get.\n",
    "\n",
    "To achieve this, we created a function and plotted DBCV vs. `min_samples`."
   ]
  },
  {
   "cell_type": "code",
   "execution_count": 12,
   "id": "b80b6cc4",
   "metadata": {},
   "outputs": [],
   "source": [
    "# this is for making a progress bar\n",
    "from IPython.display import clear_output\n",
    "\n",
    "def get_min_samples_validity(data, start=1, end=50):\n",
    "    '''\n",
    "    Varies value of min_samples from start to end (step=1) and returns the relative validities\n",
    "    \n",
    "    Parameters:\n",
    "    data: data (type: array-like)\n",
    "    start: start value for min_samples (type: int)\n",
    "    end: end value for min_samples (type: int)\n",
    "    \n",
    "    Returns:\n",
    "    Tuple with relative_validities dictionary and n_clusters list\n",
    "    '''\n",
    "    relative_validities = []\n",
    "    n_clusters = []\n",
    "    \n",
    "    # print a progress bar \n",
    "    print('|'+(' '*(end-start))+'|')\n",
    "    \n",
    "    # run HDBSCAN on the different min_samples depending on range specified\n",
    "    for i in range(start, end+1):\n",
    "        clusterrer = hdbscan.HDBSCAN(min_samples=i, gen_min_span_tree=True, min_cluster_size=10)\n",
    "        clusterrer.fit(data)\n",
    "        \n",
    "        # save the number of clusters formed with the current min_samples\n",
    "        n_clusters.append(max(clusterrer.labels_)+1)\n",
    "        \n",
    "        # save the relative validity (DBCV score) for the current min_samples\n",
    "        relative_validities.append(clusterrer.relative_validity_)\n",
    "        \n",
    "        # update the progress bar\n",
    "        clear_output()\n",
    "        print('|'+('*'*(i+1))+(' '*(end-start-i))+'|')\n",
    "        \n",
    "    \n",
    "    return relative_validities, n_clusters"
   ]
  },
  {
   "cell_type": "code",
   "execution_count": 13,
   "id": "25ae7f9a",
   "metadata": {},
   "outputs": [
    {
     "name": "stdout",
     "output_type": "stream",
     "text": [
      "|***************************************************|\n"
     ]
    }
   ],
   "source": [
    "relative_validities, n_clusters = get_min_samples_validity(conv_vars_df)"
   ]
  },
  {
   "cell_type": "code",
   "execution_count": 14,
   "id": "e00f8459",
   "metadata": {},
   "outputs": [
    {
     "data": {
      "image/png": "[encoded data removed]",
      "text/plain": [
       "<Figure size 1152x576 with 1 Axes>"
      ]
     },
     "metadata": {},
     "output_type": "display_data"
    }
   ],
   "source": [
    "plt.figure(figsize=(16,8))\n",
    "sb.scatterplot(x=np.arange(1, 51, dtype=int), y=relative_validities, hue=n_clusters, legend='full')\n",
    "plt.xticks(np.arange(1, 51, dtype=int))\n",
    "plt.xlabel('min_samples')\n",
    "plt.ylabel('relative_validity_(DBCV)')\n",
    "plt.savefig('dbcv_min_samples_1.png')"
   ]
  },
  {
   "cell_type": "code",
   "execution_count": 30,
   "id": "3544df5c",
   "metadata": {},
   "outputs": [
    {
     "data": {
      "text/plain": [
       "0.2581259315631292"
      ]
     },
     "execution_count": 30,
     "metadata": {},
     "output_type": "execute_result"
    }
   ],
   "source": [
    "relative_validities[7-1]"
   ]
  },
  {
   "cell_type": "code",
   "execution_count": null,
   "id": "51e50532",
   "metadata": {},
   "outputs": [],
   "source": []
  },
  {
   "cell_type": "markdown",
   "id": "ff143db8",
   "metadata": {},
   "source": [
    "We noticed with the help of this plot that `min_samples = 7` with `min_cluster_size = 10` seems to be a good choice as it gives a `relative_validity_` approximately equal to  `0.26`."
   ]
  },
  {
   "cell_type": "markdown",
   "id": "21031d0f",
   "metadata": {},
   "source": [
    "### 4. Clustering with New Parameters\n",
    "\n",
    "Now, we use the parameters from the previous section to cluster our data."
   ]
  },
  {
   "cell_type": "code",
   "execution_count": 13,
   "id": "9f441242",
   "metadata": {},
   "outputs": [],
   "source": [
    "hdb = hdbscan.HDBSCAN(min_samples=7, min_cluster_size=10, gen_min_span_tree=True)"
   ]
  },
  {
   "cell_type": "code",
   "execution_count": 14,
   "id": "4b444f09",
   "metadata": {},
   "outputs": [
    {
     "data": {
      "text/plain": [
       "HDBSCAN(gen_min_span_tree=True, min_cluster_size=10, min_samples=7)"
      ]
     },
     "execution_count": 14,
     "metadata": {},
     "output_type": "execute_result"
    }
   ],
   "source": [
    "hdb.fit(conv_vars_df)"
   ]
  },
  {
   "cell_type": "code",
   "execution_count": 15,
   "id": "25600aac",
   "metadata": {},
   "outputs": [
    {
     "name": "stderr",
     "output_type": "stream",
     "text": [
      "/Users/ardnep/miniconda3/lib/python3.8/site-packages/hdbscan/plots.py:383: UserWarning: Infinite lambda values encountered in chosen clusters. This might be due to duplicates in the data.\n",
      "  warn('Infinite lambda values encountered in chosen clusters.'\n"
     ]
    },
    {
     "data": {
      "text/plain": [
       "<AxesSubplot:ylabel='$\\\\lambda$ value'>"
      ]
     },
     "execution_count": 15,
     "metadata": {},
     "output_type": "execute_result"
    },
    {
     "data": {
      "image/png": "[encoded data removed]",
      "text/plain": [
       "<Figure size 1152x576 with 2 Axes>"
      ]
     },
     "metadata": {},
     "output_type": "display_data"
    }
   ],
   "source": [
    "plt.figure(figsize=(16,8))\n",
    "hdb.condensed_tree_.plot(select_clusters=True)"
   ]
  },
  {
   "cell_type": "code",
   "execution_count": 16,
   "id": "a5e65508",
   "metadata": {},
   "outputs": [
    {
     "data": {
      "text/plain": [
       "0.2581259315631292"
      ]
     },
     "execution_count": 16,
     "metadata": {},
     "output_type": "execute_result"
    }
   ],
   "source": [
    "hdb.relative_validity_"
   ]
  },
  {
   "cell_type": "code",
   "execution_count": 17,
   "id": "8497129b",
   "metadata": {},
   "outputs": [
    {
     "data": {
      "text/plain": [
       "13202"
      ]
     },
     "execution_count": 17,
     "metadata": {},
     "output_type": "execute_result"
    }
   ],
   "source": [
    "# print the number of outliers (noise points)\n",
    "len([val for val in hdb.labels_ if val == -1])"
   ]
  },
  {
   "cell_type": "code",
   "execution_count": null,
   "id": "7b4bfcb3",
   "metadata": {},
   "outputs": [],
   "source": []
  },
  {
   "cell_type": "markdown",
   "id": "fc98fe36",
   "metadata": {},
   "source": [
    "With this approach, however, we increase the DBCV but run into another issue which is that most of our data is being labelled noise (`13202` of `19362`). We checked the probabilies of our non-noise points belonging to their cluster and realized that there were a lot of data points which with probability `1` of belonging to their cluster. This could suggest that the `min_cluster_size` is too small."
   ]
  },
  {
   "cell_type": "code",
   "execution_count": 18,
   "id": "a400aa20",
   "metadata": {},
   "outputs": [
    {
     "name": "stderr",
     "output_type": "stream",
     "text": [
      "/Users/ardnep/miniconda3/lib/python3.8/site-packages/seaborn/distributions.py:2619: FutureWarning: `distplot` is a deprecated function and will be removed in a future version. Please adapt your code to use either `displot` (a figure-level function with similar flexibility) or `histplot` (an axes-level function for histograms).\n",
      "  warnings.warn(msg, FutureWarning)\n"
     ]
    },
    {
     "data": {
      "text/plain": [
       "<AxesSubplot:ylabel='Density'>"
      ]
     },
     "execution_count": 18,
     "metadata": {},
     "output_type": "execute_result"
    },
    {
     "data": {
      "image/png": "[encoded data removed]",
      "text/plain": [
       "<Figure size 1152x576 with 1 Axes>"
      ]
     },
     "metadata": {},
     "output_type": "display_data"
    }
   ],
   "source": [
    "# probabilities of points lying in their cluster\n",
    "plt.figure(figsize=(16,8))\n",
    "sb.distplot([val for val in hdb.probabilities_ if val])"
   ]
  },
  {
   "cell_type": "code",
   "execution_count": null,
   "id": "b8802b05",
   "metadata": {},
   "outputs": [],
   "source": []
  },
  {
   "cell_type": "code",
   "execution_count": null,
   "id": "0b3a23be",
   "metadata": {},
   "outputs": [],
   "source": []
  },
  {
   "cell_type": "markdown",
   "id": "a61983d3",
   "metadata": {},
   "source": [
    "### 5. Increasing `min_cluster_size` to `30`\n",
    "\n",
    "Becaue of the aforementioned issue, we decided to instead increase the `min_cluster_size` to `30` to consider more points into our clusters."
   ]
  },
  {
   "cell_type": "code",
   "execution_count": 19,
   "id": "e7d9847f",
   "metadata": {},
   "outputs": [],
   "source": [
    "hdb = hdbscan.HDBSCAN(min_samples=7, min_cluster_size=30, gen_min_span_tree=True)"
   ]
  },
  {
   "cell_type": "code",
   "execution_count": 20,
   "id": "66021cca",
   "metadata": {},
   "outputs": [
    {
     "data": {
      "text/plain": [
       "HDBSCAN(gen_min_span_tree=True, min_cluster_size=30, min_samples=7)"
      ]
     },
     "execution_count": 20,
     "metadata": {},
     "output_type": "execute_result"
    }
   ],
   "source": [
    "hdb.fit(conv_vars_df)"
   ]
  },
  {
   "cell_type": "code",
   "execution_count": 21,
   "id": "7675dd42",
   "metadata": {},
   "outputs": [
    {
     "data": {
      "text/plain": [
       "<AxesSubplot:ylabel='$\\\\lambda$ value'>"
      ]
     },
     "execution_count": 21,
     "metadata": {},
     "output_type": "execute_result"
    },
    {
     "data": {
      "image/png": "[encoded data removed]",
      "text/plain": [
       "<Figure size 1152x576 with 2 Axes>"
      ]
     },
     "metadata": {},
     "output_type": "display_data"
    }
   ],
   "source": [
    "plt.figure(figsize=(16,8))\n",
    "hdb.condensed_tree_.plot(select_clusters=True)"
   ]
  },
  {
   "cell_type": "code",
   "execution_count": 22,
   "id": "eb7693ff",
   "metadata": {},
   "outputs": [
    {
     "data": {
      "text/plain": [
       "0.00011362952312039105"
      ]
     },
     "execution_count": 22,
     "metadata": {},
     "output_type": "execute_result"
    }
   ],
   "source": [
    "hdb.relative_validity_"
   ]
  },
  {
   "cell_type": "code",
   "execution_count": 23,
   "id": "64b11183",
   "metadata": {},
   "outputs": [
    {
     "data": {
      "text/plain": [
       "6206"
      ]
     },
     "execution_count": 23,
     "metadata": {},
     "output_type": "execute_result"
    }
   ],
   "source": [
    "# print the number of outliers (noise points)\n",
    "len([val for val in hdb.labels_ if val == -1])"
   ]
  },
  {
   "cell_type": "code",
   "execution_count": 24,
   "id": "058ed6b5",
   "metadata": {},
   "outputs": [
    {
     "name": "stderr",
     "output_type": "stream",
     "text": [
      "/Users/ardnep/miniconda3/lib/python3.8/site-packages/seaborn/distributions.py:2619: FutureWarning: `distplot` is a deprecated function and will be removed in a future version. Please adapt your code to use either `displot` (a figure-level function with similar flexibility) or `histplot` (an axes-level function for histograms).\n",
      "  warnings.warn(msg, FutureWarning)\n"
     ]
    },
    {
     "data": {
      "text/plain": [
       "<AxesSubplot:ylabel='Density'>"
      ]
     },
     "execution_count": 24,
     "metadata": {},
     "output_type": "execute_result"
    },
    {
     "data": {
      "image/png": "[encoded data removed]",
      "text/plain": [
       "<Figure size 1152x576 with 1 Axes>"
      ]
     },
     "metadata": {},
     "output_type": "display_data"
    }
   ],
   "source": [
    "plt.figure(figsize=(16,8))\n",
    "sb.distplot([val for val in hdb.probabilities_ if val])"
   ]
  },
  {
   "cell_type": "markdown",
   "id": "d5f5fd12",
   "metadata": {},
   "source": [
    "Now we can notice that with the increase in cluster size, we have only `6206` noise points and a total of `3` clusters. "
   ]
  },
  {
   "cell_type": "code",
   "execution_count": null,
   "id": "03aa557e",
   "metadata": {},
   "outputs": [],
   "source": []
  },
  {
   "cell_type": "code",
   "execution_count": null,
   "id": "b2ec24f9",
   "metadata": {},
   "outputs": [],
   "source": []
  },
  {
   "cell_type": "markdown",
   "id": "82729e7d",
   "metadata": {},
   "source": [
    "### 6. Creating DataFrame With Clustered Points\n",
    "\n",
    "Using the previous clustering solution with:\n",
    "\n",
    "`min_samples = 7`\n",
    "\n",
    "`min_cluster_size = 30`\n",
    "\n",
    "No. of Clusters = `3`\n",
    "\n",
    "No. of Outliers = `6206` (of `19362`)\n",
    "\n",
    "we create a DataFrame with the information about which point belongs to which cluster. Here, `-1` represents noise points"
   ]
  },
  {
   "cell_type": "code",
   "execution_count": 25,
   "id": "5e6165fa",
   "metadata": {},
   "outputs": [
    {
     "data": {
      "text/html": [
       "<div>\n",
       "<style scoped>\n",
       "    .dataframe tbody tr th:only-of-type {\n",
       "        vertical-align: middle;\n",
       "    }\n",
       "\n",
       "    .dataframe tbody tr th {\n",
       "        vertical-align: top;\n",
       "    }\n",
       "\n",
       "    .dataframe thead th {\n",
       "        text-align: right;\n",
       "    }\n",
       "</style>\n",
       "<table border=\"1\" class=\"dataframe\">\n",
       "  <thead>\n",
       "    <tr style=\"text-align: right;\">\n",
       "      <th></th>\n",
       "      <th>Cluster</th>\n",
       "    </tr>\n",
       "  </thead>\n",
       "  <tbody>\n",
       "    <tr>\n",
       "      <th>0</th>\n",
       "      <td>2</td>\n",
       "    </tr>\n",
       "    <tr>\n",
       "      <th>1</th>\n",
       "      <td>1</td>\n",
       "    </tr>\n",
       "    <tr>\n",
       "      <th>2</th>\n",
       "      <td>-1</td>\n",
       "    </tr>\n",
       "    <tr>\n",
       "      <th>3</th>\n",
       "      <td>1</td>\n",
       "    </tr>\n",
       "    <tr>\n",
       "      <th>4</th>\n",
       "      <td>1</td>\n",
       "    </tr>\n",
       "    <tr>\n",
       "      <th>...</th>\n",
       "      <td>...</td>\n",
       "    </tr>\n",
       "    <tr>\n",
       "      <th>19357</th>\n",
       "      <td>-1</td>\n",
       "    </tr>\n",
       "    <tr>\n",
       "      <th>19358</th>\n",
       "      <td>-1</td>\n",
       "    </tr>\n",
       "    <tr>\n",
       "      <th>19359</th>\n",
       "      <td>1</td>\n",
       "    </tr>\n",
       "    <tr>\n",
       "      <th>19360</th>\n",
       "      <td>0</td>\n",
       "    </tr>\n",
       "    <tr>\n",
       "      <th>19361</th>\n",
       "      <td>1</td>\n",
       "    </tr>\n",
       "  </tbody>\n",
       "</table>\n",
       "<p>19362 rows × 1 columns</p>\n",
       "</div>"
      ],
      "text/plain": [
       "       Cluster\n",
       "0            2\n",
       "1            1\n",
       "2           -1\n",
       "3            1\n",
       "4            1\n",
       "...        ...\n",
       "19357       -1\n",
       "19358       -1\n",
       "19359        1\n",
       "19360        0\n",
       "19361        1\n",
       "\n",
       "[19362 rows x 1 columns]"
      ]
     },
     "execution_count": 25,
     "metadata": {},
     "output_type": "execute_result"
    }
   ],
   "source": [
    "conv_vars_clustered_df = pd.DataFrame(hdb.labels_, columns=['Cluster'])\n",
    "conv_vars_clustered_df"
   ]
  },
  {
   "cell_type": "code",
   "execution_count": null,
   "id": "de0a646c",
   "metadata": {},
   "outputs": [],
   "source": []
  },
  {
   "cell_type": "code",
   "execution_count": null,
   "id": "370a6237",
   "metadata": {},
   "outputs": [],
   "source": []
  },
  {
   "cell_type": "markdown",
   "id": "96cfd5a6",
   "metadata": {},
   "source": [
    "### 7. Converting DataFrame to Pickle File"
   ]
  },
  {
   "cell_type": "code",
   "execution_count": 26,
   "id": "9a4df126",
   "metadata": {},
   "outputs": [],
   "source": [
    "conv_vars_clustered_df.to_pickle('conv_vars_clustered.pickle')"
   ]
  },
  {
   "cell_type": "code",
   "execution_count": null,
   "id": "fa0e88a4",
   "metadata": {},
   "outputs": [],
   "source": []
  },
  {
   "cell_type": "code",
   "execution_count": null,
   "id": "72eb1f6c",
   "metadata": {},
   "outputs": [],
   "source": []
  }
 ],
 "metadata": {
  "kernelspec": {
   "display_name": "Python 3 (ipykernel)",
   "language": "python",
   "name": "python3"
  },
  "language_info": {
   "codemirror_mode": {
    "name": "ipython",
    "version": 3
   },
   "file_extension": ".py",
   "mimetype": "text/x-python",
   "name": "python",
   "nbconvert_exporter": "python",
   "pygments_lexer": "ipython3",
   "version": "3.8.11"
  }
 },
 "nbformat": 4,
 "nbformat_minor": 5
}
